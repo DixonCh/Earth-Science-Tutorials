{
  "nbformat": 4,
  "nbformat_minor": 0,
  "metadata": {
    "colab": {
      "name": "DeepGISLSTM.ipynb",
      "provenance": [],
      "mount_file_id": "1ElU-orHrP2IEELpIPDoAYjA3l3Xk5VAS",
      "authorship_tag": "ABX9TyMcl8RmL7+DQkMgAN3D8zcU",
      "include_colab_link": true
    },
    "kernelspec": {
      "name": "python3",
      "display_name": "Python 3"
    }
  },
  "cells": [
    {
      "cell_type": "markdown",
      "metadata": {
        "id": "view-in-github",
        "colab_type": "text"
      },
      "source": [
        "<a href=\"https://colab.research.google.com/github/tejshahi/Earth-Science-Tutorials/blob/master/DeepGISLSTM.ipynb\" target=\"_parent\"><img src=\"https://colab.research.google.com/assets/colab-badge.svg\" alt=\"Open In Colab\"/></a>"
      ]
    }
  ]
}